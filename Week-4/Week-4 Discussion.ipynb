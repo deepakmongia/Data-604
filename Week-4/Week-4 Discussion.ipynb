{
 "cells": [
  {
   "cell_type": "markdown",
   "metadata": {},
   "source": [
    "### Week - 4 Discussion  -   based on Rainwater Simulation paper"
   ]
  },
  {
   "cell_type": "markdown",
   "metadata": {},
   "source": [
    "##### 1 - Balance equations from the paper\n",
    "For this discussion, we are discussing the balance equations from the paper we are given for week-4. There are mainly these below equations:\n",
    "\n",
    "Volume in the tank, $V $\n",
    "\n",
    "$V = Max\\{0, V_{t-1} + C_t - D_t - O_t\\} $\n",
    "\n",
    "$V = Min\\{Max\\{0, V_{t-1} + C_t - D_t\\}, Cap\\} $"
   ]
  },
  {
   "cell_type": "markdown",
   "metadata": {},
   "source": [
    "Volume in the tank on any given day equals the volume in the tank at the end of the previous day plus volume captured on that day minus (demand and overflow). This is in the case we have overflow in the consideration.\n",
    "\n",
    "In case we consider the tank capacity, then the Volume on any given day will be the minimum of\n",
    "a) Volume on the previous day + volume captured - demand \n",
    "b) Capacity of the tank\n",
    "\n",
    "So whichever of the above 2 is minimum, the volume will be that value.\n",
    "If the capacity of the tank is more than the other value calculated, the volume on that day will be that given value\n",
    "\n",
    "C and D are the values of volume captured on that given day and demand on that day respectively. So these 2 variables are variable on any given day."
   ]
  },
  {
   "cell_type": "markdown",
   "metadata": {},
   "source": [
    "$Estimate  Shortage, X_t = Min\\{X_{t-1}, X_{t-1} + V_{t-1} + C_t - D_t\\} $\n",
    "\n",
    "$Estimate overflow, O_t = Max\\{O_{t-1}, O_{t-1} + V_{t-1} + C_t - D_t - Cap\\} $"
   ]
  },
  {
   "cell_type": "markdown",
   "metadata": {},
   "source": [
    "##### 2 - Code from last week that was rewarding / frustrating\n",
    "The part that brought some good information for me was the formula for the carrying capacity. I have never heard this term before, but when I checked on Google, I could see that this is a very commonly used term used in the population terminology.\n",
    "As per the definition on Wikipedia: https://en.wikipedia.org/wiki/Carrying_capacity:\n",
    "The carrying capacity of an environment is the maximum population size of a biological species that can be sustained in that specific environment, given the food, habitat, water, and other resources available."
   ]
  },
  {
   "cell_type": "code",
   "execution_count": 3,
   "metadata": {},
   "outputs": [
    {
     "name": "stdout",
     "output_type": "stream",
     "text": [
      "13.88888888888889\n"
     ]
    }
   ],
   "source": [
    "from modsim import *\n",
    "\n",
    "def carrying_capacity(system):\n",
    "    K = -system.alpha / system.beta\n",
    "    return K\n",
    "    \n",
    "sys1 = System(alpha=0.025, beta=-0.0018)\n",
    "pop = carrying_capacity(sys1)\n",
    "print(pop)"
   ]
  }
 ],
 "metadata": {
  "kernelspec": {
   "display_name": "Python 3",
   "language": "python",
   "name": "python3"
  },
  "language_info": {
   "codemirror_mode": {
    "name": "ipython",
    "version": 3
   },
   "file_extension": ".py",
   "mimetype": "text/x-python",
   "name": "python",
   "nbconvert_exporter": "python",
   "pygments_lexer": "ipython3",
   "version": "3.7.3"
  }
 },
 "nbformat": 4,
 "nbformat_minor": 2
}
