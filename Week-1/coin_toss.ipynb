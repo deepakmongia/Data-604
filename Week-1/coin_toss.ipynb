{
 "cells": [
  {
   "cell_type": "code",
   "execution_count": 1,
   "metadata": {},
   "outputs": [],
   "source": [
    "import random"
   ]
  },
  {
   "cell_type": "code",
   "execution_count": 2,
   "metadata": {},
   "outputs": [],
   "source": [
    "r = random.Random(124)"
   ]
  },
  {
   "cell_type": "code",
   "execution_count": 3,
   "metadata": {},
   "outputs": [],
   "source": [
    "sumx = 0\n",
    "count = 0\n",
    "for rep in range(10000):\n",
    "    x = 0\n",
    "    consechds = 0\n",
    "    while True:\n",
    "        u = r.uniform(0.0,1.0)\n",
    "        if u > 0.5:\n",
    "            consechds += 1\n",
    "        else:\n",
    "            consechds = 0\n",
    "        x += 1\n",
    "        if consechds == 3: break\n",
    "    if x > 6: count += 1\n",
    "    sumx += x"
   ]
  },
  {
   "cell_type": "code",
   "execution_count": 4,
   "metadata": {},
   "outputs": [
    {
     "name": "stdout",
     "output_type": "stream",
     "text": [
      "probability more than 6 tosses are needed to have 3 consecutive heads =  0.6829\n",
      "mean number of tosses to get 3 consecutive heads =  13.9628\n"
     ]
    }
   ],
   "source": [
    "print(\"probability more than 6 tosses are needed to have 3 consecutive heads = \", count/10000)\n",
    "print(\"mean number of tosses to get 3 consecutive heads = \", sumx/10000)"
   ]
  }
 ],
 "metadata": {
  "kernelspec": {
   "display_name": "Python 3",
   "language": "python",
   "name": "python3"
  },
  "language_info": {
   "codemirror_mode": {
    "name": "ipython",
    "version": 3
   },
   "file_extension": ".py",
   "mimetype": "text/x-python",
   "name": "python",
   "nbconvert_exporter": "python",
   "pygments_lexer": "ipython3",
   "version": "3.7.3"
  }
 },
 "nbformat": 4,
 "nbformat_minor": 2
}
