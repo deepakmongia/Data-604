{
 "cells": [
  {
   "cell_type": "markdown",
   "metadata": {},
   "source": [
    "# Modeling and Simulation in Python\n",
    "\n",
    "Chapter 14\n",
    "\n",
    "Copyright 2017 Allen Downey\n",
    "\n",
    "License: [Creative Commons Attribution 4.0 International](https://creativecommons.org/licenses/by/4.0)"
   ]
  },
  {
   "cell_type": "code",
   "execution_count": 1,
   "metadata": {},
   "outputs": [
    {
     "name": "stderr",
     "output_type": "stream",
     "text": [
      "C:\\ProgramData\\Anaconda3\\lib\\site-packages\\dask\\config.py:168: YAMLLoadWarning: calling yaml.load() without Loader=... is deprecated, as the default Loader is unsafe. Please read https://msg.pyyaml.org/load for full details.\n",
      "  data = yaml.load(f.read()) or {}\n",
      "C:\\ProgramData\\Anaconda3\\lib\\site-packages\\distributed\\config.py:20: YAMLLoadWarning: calling yaml.load() without Loader=... is deprecated, as the default Loader is unsafe. Please read https://msg.pyyaml.org/load for full details.\n",
      "  defaults = yaml.load(f)\n"
     ]
    }
   ],
   "source": [
    "# Configure Jupyter so figures appear in the notebook\n",
    "%matplotlib inline\n",
    "\n",
    "# Configure Jupyter to display the assigned value after an assignment\n",
    "%config InteractiveShell.ast_node_interactivity='last_expr_or_assign'\n",
    "\n",
    "# import functions from the modsim.py module\n",
    "from modsim import *"
   ]
  },
  {
   "cell_type": "markdown",
   "metadata": {},
   "source": [
    "### Code from previous chapters"
   ]
  },
  {
   "cell_type": "code",
   "execution_count": 2,
   "metadata": {},
   "outputs": [],
   "source": [
    "def make_system(beta, gamma):\n",
    "    \"\"\"Make a system object for the SIR model.\n",
    "    \n",
    "    beta: contact rate in days\n",
    "    gamma: recovery rate in days\n",
    "    \n",
    "    returns: System object\n",
    "    \"\"\"\n",
    "    init = State(S=89, I=1, R=0)\n",
    "    init /= np.sum(init)\n",
    "\n",
    "    t0 = 0\n",
    "    t_end = 7 * 14\n",
    "\n",
    "    return System(init=init, t0=t0, t_end=t_end,\n",
    "                  beta=beta, gamma=gamma)"
   ]
  },
  {
   "cell_type": "code",
   "execution_count": 3,
   "metadata": {},
   "outputs": [],
   "source": [
    "def update_func(state, t, system):\n",
    "    \"\"\"Update the SIR model.\n",
    "    \n",
    "    state: State (s, i, r)\n",
    "    t: time\n",
    "    system: System object\n",
    "    \n",
    "    returns: State (sir)\n",
    "    \"\"\"\n",
    "    s, i, r = state\n",
    "\n",
    "    infected = system.beta * i * s    \n",
    "    recovered = system.gamma * i\n",
    "    \n",
    "    s -= infected\n",
    "    i += infected - recovered\n",
    "    r += recovered\n",
    "    \n",
    "    return State(S=s, I=i, R=r)"
   ]
  },
  {
   "cell_type": "code",
   "execution_count": 4,
   "metadata": {},
   "outputs": [],
   "source": [
    "def run_simulation(system, update_func):\n",
    "    \"\"\"Runs a simulation of the system.\n",
    "        \n",
    "    system: System object\n",
    "    update_func: function that updates state\n",
    "    \n",
    "    returns: TimeFrame\n",
    "    \"\"\"\n",
    "    init, t0, t_end = system.init, system.t0, system.t_end\n",
    "    \n",
    "    frame = TimeFrame(columns=init.index)\n",
    "    frame.row[t0] = init\n",
    "    \n",
    "    for t in linrange(t0, t_end):\n",
    "        frame.row[t+1] = update_func(frame.row[t], t, system)\n",
    "    \n",
    "    return frame"
   ]
  },
  {
   "cell_type": "code",
   "execution_count": 5,
   "metadata": {},
   "outputs": [],
   "source": [
    "def calc_total_infected(results):\n",
    "    \"\"\"Fraction of population infected during the simulation.\n",
    "    \n",
    "    results: DataFrame with columns S, I, R\n",
    "    \n",
    "    returns: fraction of population\n",
    "    \"\"\"\n",
    "    return get_first_value(results.S) - get_last_value(results.S)"
   ]
  },
  {
   "cell_type": "code",
   "execution_count": 6,
   "metadata": {},
   "outputs": [],
   "source": [
    "def sweep_beta(beta_array, gamma):\n",
    "    \"\"\"Sweep a range of values for beta.\n",
    "    \n",
    "    beta_array: array of beta values\n",
    "    gamma: recovery rate\n",
    "    \n",
    "    returns: SweepSeries that maps from beta to total infected\n",
    "    \"\"\"\n",
    "    sweep = SweepSeries()\n",
    "    for beta in beta_array:\n",
    "        system = make_system(beta, gamma)\n",
    "        results = run_simulation(system, update_func)\n",
    "        sweep[system.beta] = calc_total_infected(results)\n",
    "    return sweep"
   ]
  },
  {
   "cell_type": "code",
   "execution_count": 7,
   "metadata": {},
   "outputs": [],
   "source": [
    "def sweep_parameters(beta_array, gamma_array):\n",
    "    \"\"\"Sweep a range of values for beta and gamma.\n",
    "    \n",
    "    beta_array: array of infection rates\n",
    "    gamma_array: array of recovery rates\n",
    "    \n",
    "    returns: SweepFrame with one row for each beta\n",
    "             and one column for each gamma\n",
    "    \"\"\"\n",
    "    frame = SweepFrame(columns=gamma_array)\n",
    "    for gamma in gamma_array:\n",
    "        frame[gamma] = sweep_beta(beta_array, gamma)\n",
    "    return frame"
   ]
  },
  {
   "cell_type": "markdown",
   "metadata": {},
   "source": [
    "### Contact number"
   ]
  },
  {
   "cell_type": "markdown",
   "metadata": {},
   "source": [
    "Here's the `SweepFrame` from the previous chapter, with one row for each value of `beta` and one column for each value of `gamma`."
   ]
  },
  {
   "cell_type": "code",
   "execution_count": 8,
   "metadata": {},
   "outputs": [
    {
     "data": {
      "text/html": [
       "<div>\n",
       "<style scoped>\n",
       "    .dataframe tbody tr th:only-of-type {\n",
       "        vertical-align: middle;\n",
       "    }\n",
       "\n",
       "    .dataframe tbody tr th {\n",
       "        vertical-align: top;\n",
       "    }\n",
       "\n",
       "    .dataframe thead th {\n",
       "        text-align: right;\n",
       "    }\n",
       "</style>\n",
       "<table border=\"1\" class=\"dataframe\">\n",
       "  <thead>\n",
       "    <tr style=\"text-align: right;\">\n",
       "      <th></th>\n",
       "      <th>0.2</th>\n",
       "      <th>0.4</th>\n",
       "      <th>0.6</th>\n",
       "      <th>0.8</th>\n",
       "    </tr>\n",
       "  </thead>\n",
       "  <tbody>\n",
       "    <tr>\n",
       "      <th>0.1</th>\n",
       "      <td>0.010756</td>\n",
       "      <td>0.003642</td>\n",
       "      <td>0.002191</td>\n",
       "      <td>0.001567</td>\n",
       "    </tr>\n",
       "    <tr>\n",
       "      <th>0.2</th>\n",
       "      <td>0.118984</td>\n",
       "      <td>0.010763</td>\n",
       "      <td>0.005447</td>\n",
       "      <td>0.003644</td>\n",
       "    </tr>\n",
       "    <tr>\n",
       "      <th>0.3</th>\n",
       "      <td>0.589095</td>\n",
       "      <td>0.030185</td>\n",
       "      <td>0.010771</td>\n",
       "      <td>0.006526</td>\n",
       "    </tr>\n",
       "    <tr>\n",
       "      <th>0.4</th>\n",
       "      <td>0.801339</td>\n",
       "      <td>0.131563</td>\n",
       "      <td>0.020917</td>\n",
       "      <td>0.010780</td>\n",
       "    </tr>\n",
       "    <tr>\n",
       "      <th>0.5</th>\n",
       "      <td>0.896577</td>\n",
       "      <td>0.396409</td>\n",
       "      <td>0.046140</td>\n",
       "      <td>0.017640</td>\n",
       "    </tr>\n",
       "  </tbody>\n",
       "</table>\n",
       "</div>"
      ],
      "text/plain": [
       "          0.2       0.4       0.6       0.8\n",
       "0.1  0.010756  0.003642  0.002191  0.001567\n",
       "0.2  0.118984  0.010763  0.005447  0.003644\n",
       "0.3  0.589095  0.030185  0.010771  0.006526\n",
       "0.4  0.801339  0.131563  0.020917  0.010780\n",
       "0.5  0.896577  0.396409  0.046140  0.017640"
      ]
     },
     "execution_count": 8,
     "metadata": {},
     "output_type": "execute_result"
    }
   ],
   "source": [
    "beta_array = [0.1, 0.2, 0.3, 0.4, 0.5, 0.6, 0.7, 0.8, 0.9, 1.0 , 1.1]\n",
    "gamma_array = [0.2, 0.4, 0.6, 0.8]\n",
    "frame = sweep_parameters(beta_array, gamma_array)\n",
    "frame.head()"
   ]
  },
  {
   "cell_type": "markdown",
   "metadata": {},
   "source": []
  },
  {
   "cell_type": "code",
   "execution_count": 9,
   "metadata": {},
   "outputs": [
    {
     "data": {
      "text/plain": [
       "(11, 4)"
      ]
     },
     "execution_count": 9,
     "metadata": {},
     "output_type": "execute_result"
    }
   ],
   "source": [
    "frame.shape"
   ]
  },
  {
   "cell_type": "markdown",
   "metadata": {},
   "source": [
    "The following loop shows how we can loop through the columns and rows of the `SweepFrame`.  With 11 rows and 4 columns, there are 44 elements."
   ]
  },
  {
   "cell_type": "code",
   "execution_count": 10,
   "metadata": {},
   "outputs": [
    {
     "name": "stdout",
     "output_type": "stream",
     "text": [
      "0.1 0.2 0.010756340768063644\n",
      "0.2 0.2 0.11898421353185373\n",
      "0.3 0.2 0.5890954199973404\n",
      "0.4 0.2 0.8013385277185551\n",
      "0.5 0.2 0.8965769637207062\n",
      "0.6 0.2 0.942929291399791\n",
      "0.7 0.2 0.966299311298026\n",
      "0.8 0.2 0.9781518959989762\n",
      "0.9 0.2 0.9840568957948106\n",
      "1.0 0.2 0.9868823507202488\n",
      "1.1 0.2 0.988148177093735\n",
      "0.1 0.4 0.0036416926514175607\n",
      "0.2 0.4 0.010763463373360094\n",
      "0.3 0.4 0.030184952469116566\n",
      "0.4 0.4 0.131562924303259\n",
      "0.5 0.4 0.3964094037932606\n",
      "0.6 0.4 0.5979016626615987\n",
      "0.7 0.4 0.7284704154876106\n",
      "0.8 0.4 0.8144604459153759\n",
      "0.9 0.4 0.8722697237137128\n",
      "1.0 0.4 0.9116692168795855\n",
      "1.1 0.4 0.9386802509510287\n",
      "0.1 0.6 0.002190722188881611\n",
      "0.2 0.6 0.005446688837466351\n",
      "0.3 0.6 0.010771139974975585\n",
      "0.4 0.6 0.020916599304195316\n",
      "0.5 0.6 0.04614035896610047\n",
      "0.6 0.6 0.13288938996079536\n",
      "0.7 0.6 0.3118432512847451\n",
      "0.8 0.6 0.47832565854255393\n",
      "0.9 0.6 0.605687582114665\n",
      "1.0 0.6 0.7014254793376209\n",
      "1.1 0.6 0.7738176405451065\n",
      "0.1 0.8 0.0015665254038139675\n",
      "0.2 0.8 0.003643953969662994\n",
      "0.3 0.8 0.006526163529085194\n",
      "0.4 0.8 0.010779807499500693\n",
      "0.5 0.8 0.017639902596349066\n",
      "0.6 0.8 0.030291868201986594\n",
      "0.7 0.8 0.05882382948158804\n",
      "0.8 0.8 0.13358889291095588\n",
      "0.9 0.8 0.2668895539427739\n",
      "1.0 0.8 0.40375121210421994\n",
      "1.1 0.8 0.519583469821867\n"
     ]
    }
   ],
   "source": [
    "for gamma in frame.columns:\n",
    "    column = frame[gamma]\n",
    "    for beta in column.index:\n",
    "        frac_infected = column[beta]\n",
    "        print(beta, gamma, frac_infected)"
   ]
  },
  {
   "cell_type": "markdown",
   "metadata": {},
   "source": [
    "Now we can wrap that loop in a function and plot the results.  For each element of the `SweepFrame`, we have `beta`, `gamma`, and `frac_infected`, and we plot `beta/gamma` on the x-axis and `frac_infected` on the y-axis."
   ]
  },
  {
   "cell_type": "code",
   "execution_count": 11,
   "metadata": {},
   "outputs": [],
   "source": [
    "def plot_sweep_frame(frame):\n",
    "    \"\"\"Plot the values from a SweepFrame.\n",
    "    \n",
    "    For each (beta, gamma), compute the contact number,\n",
    "    beta/gamma\n",
    "    \n",
    "    frame: SweepFrame with one row per beta, one column per gamma\n",
    "    \"\"\"\n",
    "    for gamma in frame.columns:\n",
    "        column = frame[gamma]\n",
    "        for beta in column.index:\n",
    "            frac_infected = column[beta]\n",
    "            plot(beta/gamma, frac_infected, 'ro')"
   ]
  },
  {
   "cell_type": "markdown",
   "metadata": {},
   "source": [
    "Here's what it looks like:"
   ]
  },
  {
   "cell_type": "code",
   "execution_count": 12,
   "metadata": {},
   "outputs": [
    {
     "data": {
      "image/png": "[encoded data removed]",
      "text/plain": [
       "<Figure size 432x288 with 1 Axes>"
      ]
     },
     "metadata": {
      "needs_background": "light"
     },
     "output_type": "display_data"
    }
   ],
   "source": [
    "plot_sweep_frame(frame)\n",
    "\n",
    "decorate(xlabel='Contact number (beta/gamma)',\n",
    "         ylabel='Fraction infected')\n",
    "\n",
    "#savefig('figs/chap14-fig01.pdf')"
   ]
  },
  {
   "cell_type": "markdown",
   "metadata": {},
   "source": [
    "It turns out that the ratio `beta/gamma`, called the \"contact number\" is sufficient to predict the total number of infections; we don't have to know `beta` and `gamma` separately.\n",
    "\n",
    "We can see that in the previous plot: when we plot the fraction infected versus the contact number, the results fall close to a curve."
   ]
  },
  {
   "cell_type": "markdown",
   "metadata": {},
   "source": [
    "### Analysis"
   ]
  },
  {
   "cell_type": "markdown",
   "metadata": {},
   "source": [
    "In the book we figured out the relationship between $c$ and $s_{\\infty}$ analytically.  Now we can compute it for a range of values:"
   ]
  },
  {
   "cell_type": "code",
   "execution_count": 13,
   "metadata": {},
   "outputs": [],
   "source": [
    "s_inf_array = linspace(0.0001, 0.9999, 101);"
   ]
  },
  {
   "cell_type": "code",
   "execution_count": 14,
   "metadata": {},
   "outputs": [],
   "source": [
    "c_array = log(s_inf_array) / (s_inf_array - 1);"
   ]
  },
  {
   "cell_type": "markdown",
   "metadata": {},
   "source": [
    "`total_infected` is the change in $s$ from the beginning to the end."
   ]
  },
  {
   "cell_type": "code",
   "execution_count": 15,
   "metadata": {},
   "outputs": [],
   "source": [
    "frac_infected = 1 - s_inf_array\n",
    "frac_infected_series = Series(frac_infected, index=c_array);"
   ]
  },
  {
   "cell_type": "markdown",
   "metadata": {},
   "source": [
    "Now we can plot the analytic results and compare them to the simulations."
   ]
  },
  {
   "cell_type": "code",
   "execution_count": 16,
   "metadata": {},
   "outputs": [
    {
     "data": {
      "image/png": "[encoded data removed]",
      "text/plain": [
       "<Figure size 432x288 with 1 Axes>"
      ]
     },
     "metadata": {
      "needs_background": "light"
     },
     "output_type": "display_data"
    }
   ],
   "source": [
    "plot_sweep_frame(frame)\n",
    "plot(frac_infected_series, label='Analysis')\n",
    "\n",
    "decorate(xlabel='Contact number (c)',\n",
    "         ylabel='Fraction infected')\n",
    "\n",
    "#savefig('figs/chap14-fig02.pdf')"
   ]
  },
  {
   "cell_type": "markdown",
   "metadata": {},
   "source": [
    "The agreement is generally good, except for values of `c` less than 1."
   ]
  },
  {
   "cell_type": "markdown",
   "metadata": {},
   "source": [
    "## Exercises"
   ]
  },
  {
   "cell_type": "markdown",
   "metadata": {},
   "source": [
    "**Exercise:**  If we didn't know about contact numbers, we might have explored other possibilities, like the difference between `beta` and `gamma`, rather than their ratio.\n",
    "\n",
    "Write a version of `plot_sweep_frame`, called `plot_sweep_frame_difference`, that plots the fraction infected versus the difference `beta-gamma`.\n",
    "\n",
    "What do the results look like, and what does that imply? "
   ]
  },
  {
   "cell_type": "code",
   "execution_count": 17,
   "metadata": {},
   "outputs": [],
   "source": [
    "def plot_sweep_frame_difference(frame):\n",
    "    for gamma in frame.columns:\n",
    "        column = frame[gamma]\n",
    "        for beta in column.index:\n",
    "            frac_infected = column[beta]\n",
    "            plot(beta - gamma, frac_infected, 'ro')"
   ]
  },
  {
   "cell_type": "code",
   "execution_count": 18,
   "metadata": {},
   "outputs": [
    {
     "data": {
      "image/png": "[encoded data removed]",
      "text/plain": [
       "<Figure size 432x288 with 1 Axes>"
      ]
     },
     "metadata": {
      "needs_background": "light"
     },
     "output_type": "display_data"
    }
   ],
   "source": [
    "plot_sweep_frame_difference(frame)\n",
    "\n",
    "decorate(xlabel='difference (beta - gamma)',\n",
    "         ylabel='Fraction infected')"
   ]
  },
  {
   "cell_type": "markdown",
   "metadata": {},
   "source": [
    "The relationship between fraction infected and the difference (beta - gamma) is not a linear one."
   ]
  },
  {
   "cell_type": "markdown",
   "metadata": {},
   "source": [
    "**Exercise:** Suppose you run a survey at the end of the semester and find that 26% of students had the Freshman Plague at some point.\n",
    "\n",
    "What is your best estimate of `c`?\n",
    "\n",
    "Hint: if you print `frac_infected_series`, you can read off the answer. "
   ]
  },
  {
   "cell_type": "code",
   "execution_count": 19,
   "metadata": {
    "scrolled": true
   },
   "outputs": [
    {
     "data": {
      "text/plain": [
       "9.211261    0.999900\n",
       "4.642296    0.989902\n",
       "3.987365    0.979904\n",
       "3.612133    0.969906\n",
       "3.350924    0.959908\n",
       "3.151808    0.949910\n",
       "2.991711    0.939912\n",
       "2.858363    0.929914\n",
       "2.744467    0.919916\n",
       "2.645332    0.909918\n",
       "2.557767    0.899920\n",
       "2.479505    0.889922\n",
       "2.408879    0.879924\n",
       "2.344627    0.869926\n",
       "2.285771    0.859928\n",
       "2.231541    0.849930\n",
       "2.181315    0.839932\n",
       "2.134590    0.829934\n",
       "2.090947    0.819936\n",
       "2.050040    0.809938\n",
       "2.011573    0.799940\n",
       "1.975299    0.789942\n",
       "1.941002    0.779944\n",
       "1.908499    0.769946\n",
       "1.877628    0.759948\n",
       "1.848249    0.749950\n",
       "1.820238    0.739952\n",
       "1.793487    0.729954\n",
       "1.767898    0.719956\n",
       "1.743384    0.709958\n",
       "              ...   \n",
       "1.181034    0.290042\n",
       "1.173263    0.280044\n",
       "1.165630    0.270046\n",
       "1.158132    0.260048\n",
       "1.150765    0.250050\n",
       "1.143524    0.240052\n",
       "1.136407    0.230054\n",
       "1.129409    0.220056\n",
       "1.122527    0.210058\n",
       "1.115758    0.200060\n",
       "1.109099    0.190062\n",
       "1.102547    0.180064\n",
       "1.096099    0.170066\n",
       "1.089751    0.160068\n",
       "1.083503    0.150070\n",
       "1.077350    0.140072\n",
       "1.071291    0.130074\n",
       "1.065323    0.120076\n",
       "1.059444    0.110078\n",
       "1.053651    0.100080\n",
       "1.047943    0.090082\n",
       "1.042317    0.080084\n",
       "1.036772    0.070086\n",
       "1.031305    0.060088\n",
       "1.025914    0.050090\n",
       "1.020598    0.040092\n",
       "1.015356    0.030094\n",
       "1.010185    0.020096\n",
       "1.005083    0.010098\n",
       "1.000050    0.000100\n",
       "Length: 101, dtype: float64"
      ]
     },
     "execution_count": 19,
     "metadata": {},
     "output_type": "execute_result"
    }
   ],
   "source": [
    "frac_infected_series"
   ]
  },
  {
   "cell_type": "markdown",
   "metadata": {},
   "source": [
    "For 26% (0.26), the contact number is 1.158 from the above list"
   ]
  }
 ],
 "metadata": {
  "kernelspec": {
   "display_name": "Python 3",
   "language": "python",
   "name": "python3"
  },
  "language_info": {
   "codemirror_mode": {
    "name": "ipython",
    "version": 3
   },
   "file_extension": ".py",
   "mimetype": "text/x-python",
   "name": "python",
   "nbconvert_exporter": "python",
   "pygments_lexer": "ipython3",
   "version": "3.7.3"
  }
 },
 "nbformat": 4,
 "nbformat_minor": 2
}
